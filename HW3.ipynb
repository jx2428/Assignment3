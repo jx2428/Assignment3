{
 "cells": [
  {
   "cell_type": "code",
   "execution_count": 1,
   "metadata": {},
   "outputs": [],
   "source": [
    "import numpy as np\n",
    "import pandas as pd\n",
    "from scipy import io\n",
    "from sklearn.decomposition import PCA\n",
    "from sklearn.svm import SVC\n",
    "from nilearn import image\n",
    "from sklearn.model_selection import train_test_split\n",
    "from sklearn.model_selection import KFold\n",
    "from sklearn.model_selection import StratifiedKFold, GridSearchCV\n",
    "from sklearn.metrics import accuracy_score\n",
    "from sklearn.utils import shuffle\n",
    "from sklearn.model_selection import cross_val_score\n",
    "import nibabel as nib\n",
    "import math\n",
    "import matplotlib.pyplot as plt\n",
    "import cv2\n"
   ]
  },
  {
   "cell_type": "markdown",
   "metadata": {},
   "source": [
    "# Test Data"
   ]
  },
  {
   "cell_type": "code",
   "execution_count": 2,
   "metadata": {},
   "outputs": [
    {
     "data": {
      "text/plain": [
       "(184, 64, 64, 30)"
      ]
     },
     "execution_count": 2,
     "metadata": {},
     "output_type": "execute_result"
    }
   ],
   "source": [
    "img_name = './sub-01/ses-test/func/sub-01_ses-test_task-fingerfootlips_bold.nii'\n",
    "\n",
    "test_img = []\n",
    "for volume in image.iter_img(img_name):\n",
    "    test_img.append(volume.dataobj)\n",
    "\n",
    "test_img = np.array(test_img)\n",
    "test_img.shape"
   ]
  },
  {
   "cell_type": "code",
   "execution_count": 3,
   "metadata": {},
   "outputs": [
    {
     "data": {
      "text/plain": [
       "<matplotlib.image.AxesImage at 0x12f33449520>"
      ]
     },
     "execution_count": 3,
     "metadata": {},
     "output_type": "execute_result"
    },
    {
     "data": {
      "image/png": "[encoded data removed]",
      "text/plain": [
       "<Figure size 432x288 with 1 Axes>"
      ]
     },
     "metadata": {
      "needs_background": "light"
     },
     "output_type": "display_data"
    }
   ],
   "source": [
    "plt.imshow(test_img[1,:,:,15],cmap='gray')"
   ]
  },
  {
   "cell_type": "code",
   "execution_count": 4,
   "metadata": {},
   "outputs": [],
   "source": [
    "# Load in segmented data generated from SPM12\n",
    "mask_name = './sub-01/ses-test/func/c6msub-01_ses-test_task-fingerfootlips_bold.nii'"
   ]
  },
  {
   "cell_type": "code",
   "execution_count": 5,
   "metadata": {},
   "outputs": [
    {
     "data": {
      "text/plain": [
       "(64, 64, 30)"
      ]
     },
     "execution_count": 5,
     "metadata": {},
     "output_type": "execute_result"
    }
   ],
   "source": [
    "mask_img = nib.load(mask_name)\n",
    "mask_img.shape"
   ]
  },
  {
   "cell_type": "code",
   "execution_count": 6,
   "metadata": {},
   "outputs": [],
   "source": [
    "thresh,test_mask = cv2.threshold(mask_img.get_fdata(),0.9,1,cv2.THRESH_BINARY_INV)"
   ]
  },
  {
   "cell_type": "code",
   "execution_count": 7,
   "metadata": {},
   "outputs": [
    {
     "name": "stdout",
     "output_type": "stream",
     "text": [
      "(64, 64, 30)\n"
     ]
    },
    {
     "data": {
      "text/plain": [
       "<matplotlib.image.AxesImage at 0x12f3378e3d0>"
      ]
     },
     "execution_count": 7,
     "metadata": {},
     "output_type": "execute_result"
    },
    {
     "data": {
      "image/png": "[encoded data removed]",
      "text/plain": [
       "<Figure size 432x288 with 1 Axes>"
      ]
     },
     "metadata": {
      "needs_background": "light"
     },
     "output_type": "display_data"
    }
   ],
   "source": [
    "print(test_mask.shape)\n",
    "plt.imshow(test_mask[:,:,15],cmap='gray')"
   ]
  },
  {
   "cell_type": "markdown",
   "metadata": {},
   "source": [
    "## Image Masking"
   ]
  },
  {
   "cell_type": "code",
   "execution_count": 8,
   "metadata": {},
   "outputs": [],
   "source": [
    "masked_img=[]\n",
    "for i in range(184):\n",
    "    ar3=[]\n",
    "    for j in range(64):\n",
    "        ar2=[]\n",
    "        for k in range(64):\n",
    "            ar1=[]\n",
    "            for l in range(30):\n",
    "                ar1.append(test_img[i][j][k][l]*test_mask[j][k][l])\n",
    "            ar2.append(ar1)\n",
    "        ar3.append(ar2)\n",
    "    masked_img.append(ar3)"
   ]
  },
  {
   "cell_type": "code",
   "execution_count": 9,
   "metadata": {},
   "outputs": [
    {
     "data": {
      "text/plain": [
       "<matplotlib.image.AxesImage at 0x12f3379c070>"
      ]
     },
     "execution_count": 9,
     "metadata": {},
     "output_type": "execute_result"
    },
    {
     "data": {
      "image/png": "[encoded data removed]",
      "text/plain": [
       "<Figure size 432x288 with 1 Axes>"
      ]
     },
     "metadata": {
      "needs_background": "light"
     },
     "output_type": "display_data"
    }
   ],
   "source": [
    "# Feature Extraction\n",
    "masked_img = np.array(masked_img)\n",
    "plt.imshow(masked_img[1,:,:,15],cmap='gray')\n"
   ]
  },
  {
   "cell_type": "code",
   "execution_count": 10,
   "metadata": {},
   "outputs": [
    {
     "name": "stdout",
     "output_type": "stream",
     "text": [
      "(184, 64, 64, 30)\n"
     ]
    }
   ],
   "source": [
    "print(masked_img.shape)\n",
    "# Reshape the masked images\n",
    "masked_img = masked_img.reshape(184,-1)\n"
   ]
  },
  {
   "cell_type": "code",
   "execution_count": 11,
   "metadata": {},
   "outputs": [
    {
     "data": {
      "text/plain": [
       "array([[0., 0., 0., ..., 0., 0., 0.],\n",
       "       [0., 0., 0., ..., 0., 0., 0.],\n",
       "       [0., 0., 0., ..., 0., 0., 0.],\n",
       "       ...,\n",
       "       [0., 0., 0., ..., 0., 0., 0.],\n",
       "       [0., 0., 0., ..., 0., 0., 0.],\n",
       "       [0., 0., 0., ..., 0., 0., 0.]])"
      ]
     },
     "execution_count": 11,
     "metadata": {},
     "output_type": "execute_result"
    }
   ],
   "source": [
    "masked_img"
   ]
  },
  {
   "cell_type": "code",
   "execution_count": 12,
   "metadata": {},
   "outputs": [
    {
     "data": {
      "text/plain": [
       "(184, 122880)"
      ]
     },
     "execution_count": 12,
     "metadata": {},
     "output_type": "execute_result"
    }
   ],
   "source": [
    "# Shape of masked images after transformation\n",
    "masked_img.shape"
   ]
  },
  {
   "cell_type": "code",
   "execution_count": 22,
   "metadata": {},
   "outputs": [],
   "source": [
    "# Reduce dimensions through PCA\n",
    "pca = PCA(n_components=100)\n",
    "pca_train = pca.fit_transform(masked_img)"
   ]
  },
  {
   "cell_type": "code",
   "execution_count": 14,
   "metadata": {},
   "outputs": [
    {
     "data": {
      "text/plain": [
       "(184, 100)"
      ]
     },
     "execution_count": 14,
     "metadata": {},
     "output_type": "execute_result"
    }
   ],
   "source": [
    "pca_train.shape"
   ]
  },
  {
   "cell_type": "code",
   "execution_count": 15,
   "metadata": {},
   "outputs": [
    {
     "data": {
      "text/plain": [
       "array([1, 1, 1, 1, 2, 2, 2, 2, 2, 2, 1, 1, 1, 1, 1, 1, 3, 3, 3, 3, 3, 3,\n",
       "       1, 1, 1, 1, 1, 1, 4, 4, 4, 4, 4, 4, 1, 1, 1, 1, 1, 1, 2, 2, 2, 2,\n",
       "       2, 2, 1, 1, 1, 1, 1, 1, 3, 3, 3, 3, 3, 3, 1, 1, 1, 1, 1, 1, 4, 4,\n",
       "       4, 4, 4, 4, 1, 1, 1, 1, 1, 1, 2, 2, 2, 2, 2, 2, 1, 1, 1, 1, 1, 1,\n",
       "       3, 3, 3, 3, 3, 3, 1, 1, 1, 1, 1, 1, 4, 4, 4, 4, 4, 4, 1, 1, 1, 1,\n",
       "       1, 1, 2, 2, 2, 2, 2, 2, 1, 1, 1, 1, 1, 1, 3, 3, 3, 3, 3, 3, 1, 1,\n",
       "       1, 1, 1, 1, 4, 4, 4, 4, 4, 4, 1, 1, 1, 1, 1, 1, 2, 2, 2, 2, 2, 2,\n",
       "       1, 1, 1, 1, 1, 1, 3, 3, 3, 3, 3, 3, 1, 1, 1, 1, 1, 1, 4, 4, 4, 4,\n",
       "       4, 4, 1, 1, 1, 1, 1, 1], dtype=uint8)"
      ]
     },
     "execution_count": 15,
     "metadata": {},
     "output_type": "execute_result"
    }
   ],
   "source": [
    "# Load labels\n",
    "labels = io.loadmat('label.mat')\n",
    "labels = labels['label'].flatten()\n",
    "labels"
   ]
  },
  {
   "cell_type": "code",
   "execution_count": 42,
   "metadata": {},
   "outputs": [],
   "source": [
    "# Fit SVM model\n",
    "svc = SVC(kernel='linear', gamma='auto',random_state=43)"
   ]
  },
  {
   "cell_type": "markdown",
   "metadata": {},
   "source": [
    "## Implement PCA + SVM through K-fold CV"
   ]
  },
  {
   "cell_type": "code",
   "execution_count": 43,
   "metadata": {},
   "outputs": [
    {
     "name": "stdout",
     "output_type": "stream",
     "text": [
      "The best average validation accuracy for svm model is: 0.8611111111111112\n"
     ]
    }
   ],
   "source": [
    "# Implement K-fold Cross Validation with the best parameters\n",
    "# Mean validation accuracy shown below\n",
    "svm_scores = np.mean(cross_val_score(svc, pca_train, labels,cv=18))\n",
    "print(\"The best average validation accuracy for svm model is: {}\".format(svm_scores))"
   ]
  },
  {
   "cell_type": "code",
   "execution_count": 61,
   "metadata": {},
   "outputs": [
    {
     "name": "stdout",
     "output_type": "stream",
     "text": [
      "Best score: 0.8611111111111112\n",
      "Best parameters: {'C': 0.0009765625, 'gamma': 0.0009765625, 'kernel': 'linear'}\n",
      "SVC(C=0.0009765625, gamma=0.0009765625, kernel='linear', random_state=999)\n"
     ]
    }
   ],
   "source": [
    "# Use GridSearch for hyper-parameter tuning\n",
    "svm = SVC()\n",
    "hyperparams = {'kernel':['linear','poly','rbf','sigmoid'],\n",
    "               'gamma' : [math.pow(2,i) for i in range(-10,5,2)],\n",
    "               'C' : [math.pow(2,i) for i in range(-10,5,2)],\n",
    "              }\n",
    "\n",
    "cross_validation = StratifiedKFold(n_splits = 18)\n",
    "grid_search = GridSearchCV(svm,param_grid = hyperparams,cv = cross_validation)\n",
    "\n",
    "grid_search.fit(pca_train, labels)\n",
    "print('Best score: {}'.format(grid_search.best_score_))\n",
    "print('Best parameters: {}'.format(grid_search.best_params_))\n",
    "\n",
    "print(grid_search.best_estimator_)"
   ]
  },
  {
   "cell_type": "markdown",
   "metadata": {},
   "source": [
    "## Implement K-fold SVM method only"
   ]
  },
  {
   "cell_type": "code",
   "execution_count": 41,
   "metadata": {},
   "outputs": [
    {
     "name": "stdout",
     "output_type": "stream",
     "text": [
      "The best average validation accuracy for svm model is: 0.8181818181818182\n"
     ]
    }
   ],
   "source": [
    "# Fit SVM model using masked image data (not reduced by PCA)\n",
    "score2 = np.mean(cross_val_score(svc, masked_img, labels, cv=18))\n",
    "print(\"The best average validation accuracy for svm model is: {}\".format(score2))"
   ]
  },
  {
   "cell_type": "code",
   "execution_count": null,
   "metadata": {},
   "outputs": [],
   "source": [
    "# Parameter tuning \n",
    "\n",
    "#grid_search = GridSearchCV(svm,param_grid = hyperparams,cv = cross_validation)\n",
    "\n",
    "#grid_search.fit(masked_img, labels)\n",
    "#print('Best score: {}'.format(grid_search.best_score_))\n",
    "#print('Best parameters: {}'.format(grid_search.best_params_))\n",
    "\n",
    "#print(grid_search.best_estimator_)"
   ]
  },
  {
   "cell_type": "markdown",
   "metadata": {},
   "source": [
    "# Re-test Data"
   ]
  },
  {
   "cell_type": "code",
   "execution_count": 169,
   "metadata": {},
   "outputs": [],
   "source": [
    "retest_img_name = './sub-01/ses-retest/func/sub-01_ses-retest_task-fingerfootlips_bold.nii'"
   ]
  },
  {
   "cell_type": "code",
   "execution_count": 170,
   "metadata": {},
   "outputs": [],
   "source": [
    "retest_img = []\n",
    "for volume in image.iter_img(retest_img_name):\n",
    "    retest_img.append(volume.dataobj)"
   ]
  },
  {
   "cell_type": "code",
   "execution_count": 171,
   "metadata": {},
   "outputs": [
    {
     "data": {
      "text/plain": [
       "(184, 64, 64, 30)"
      ]
     },
     "execution_count": 171,
     "metadata": {},
     "output_type": "execute_result"
    }
   ],
   "source": [
    "retest_img = np.array(retest_img)\n",
    "retest_img.shape"
   ]
  },
  {
   "cell_type": "code",
   "execution_count": 172,
   "metadata": {},
   "outputs": [],
   "source": [
    "# Load in segmented retest data generated from SPM12\n",
    "retest_mask_name = './sub-01/ses-retest/func/c6sub-01_ses-retest_task-fingerfootlips_bold.nii'"
   ]
  },
  {
   "cell_type": "code",
   "execution_count": 173,
   "metadata": {},
   "outputs": [
    {
     "data": {
      "text/plain": [
       "(64, 64, 30)"
      ]
     },
     "execution_count": 173,
     "metadata": {},
     "output_type": "execute_result"
    }
   ],
   "source": [
    "retest_mask_img = nib.load(retest_mask_name)\n",
    "retest_mask_img.shape"
   ]
  },
  {
   "cell_type": "code",
   "execution_count": 174,
   "metadata": {},
   "outputs": [],
   "source": [
    "thresh,retest_mask = cv2.threshold(retest_mask_img.get_fdata(),0.9,1,cv2.THRESH_BINARY_INV)"
   ]
  },
  {
   "cell_type": "code",
   "execution_count": 175,
   "metadata": {},
   "outputs": [
    {
     "name": "stdout",
     "output_type": "stream",
     "text": [
      "(64, 64, 30)\n"
     ]
    },
    {
     "data": {
      "text/plain": [
       "<matplotlib.image.AxesImage at 0x12f92cf3c70>"
      ]
     },
     "execution_count": 175,
     "metadata": {},
     "output_type": "execute_result"
    },
    {
     "data": {
      "image/png": "[encoded data removed]",
      "text/plain": [
       "<Figure size 432x288 with 1 Axes>"
      ]
     },
     "metadata": {
      "needs_background": "light"
     },
     "output_type": "display_data"
    }
   ],
   "source": [
    "print(retest_mask.shape)\n",
    "plt.imshow(retest_mask[:,:,15],cmap='gray')"
   ]
  },
  {
   "cell_type": "markdown",
   "metadata": {},
   "source": [
    "## Retest Image Data Masking"
   ]
  },
  {
   "cell_type": "code",
   "execution_count": 176,
   "metadata": {},
   "outputs": [],
   "source": [
    "retest_masked_img=[]\n",
    "for i in range(184):\n",
    "    ar3=[]\n",
    "    for j in range(64):\n",
    "        ar2=[]\n",
    "        for k in range(64):\n",
    "            ar1=[]\n",
    "            for l in range(30):\n",
    "                ar1.append(retest_img[i][j][k][l]*retest_mask[j][k][l])\n",
    "            ar2.append(ar1)\n",
    "        ar3.append(ar2)\n",
    "    retest_masked_img.append(ar3)"
   ]
  },
  {
   "cell_type": "code",
   "execution_count": 177,
   "metadata": {},
   "outputs": [
    {
     "data": {
      "text/plain": [
       "<matplotlib.image.AxesImage at 0x12f92d08c40>"
      ]
     },
     "execution_count": 177,
     "metadata": {},
     "output_type": "execute_result"
    },
    {
     "data": {
      "image/png": "[encoded data removed]",
      "text/plain": [
       "<Figure size 432x288 with 1 Axes>"
      ]
     },
     "metadata": {
      "needs_background": "light"
     },
     "output_type": "display_data"
    }
   ],
   "source": [
    "# Feature Extraction\n",
    "retest_masked_img = np.array(retest_masked_img)\n",
    "plt.imshow(retest_masked_img[1,:,:,15],cmap='gray')\n"
   ]
  },
  {
   "cell_type": "code",
   "execution_count": 178,
   "metadata": {},
   "outputs": [
    {
     "name": "stdout",
     "output_type": "stream",
     "text": [
      "(184, 64, 64, 30)\n"
     ]
    }
   ],
   "source": [
    "print(retest_masked_img.shape)\n",
    "# Reshape the retest masked images\n",
    "retest_masked_img = retest_masked_img.reshape(184,-1)"
   ]
  },
  {
   "cell_type": "code",
   "execution_count": 179,
   "metadata": {},
   "outputs": [
    {
     "data": {
      "text/plain": [
       "array([[0., 0., 0., ..., 0., 0., 0.],\n",
       "       [0., 0., 0., ..., 0., 0., 0.],\n",
       "       [0., 0., 0., ..., 0., 0., 0.],\n",
       "       ...,\n",
       "       [0., 0., 0., ..., 0., 0., 0.],\n",
       "       [0., 0., 0., ..., 0., 0., 0.],\n",
       "       [0., 0., 0., ..., 0., 0., 0.]])"
      ]
     },
     "execution_count": 179,
     "metadata": {},
     "output_type": "execute_result"
    }
   ],
   "source": [
    "retest_masked_img"
   ]
  },
  {
   "cell_type": "code",
   "execution_count": 180,
   "metadata": {},
   "outputs": [
    {
     "data": {
      "text/plain": [
       "(184, 122880)"
      ]
     },
     "execution_count": 180,
     "metadata": {},
     "output_type": "execute_result"
    }
   ],
   "source": [
    "# Shape of masked images after transformation\n",
    "retest_masked_img.shape"
   ]
  },
  {
   "cell_type": "code",
   "execution_count": 185,
   "metadata": {},
   "outputs": [],
   "source": [
    "# Reduce dimensions through PCA\n",
    "retest_pca = PCA(n_components=90)\n",
    "retest_pca_train = retest_pca.fit_transform(retest_masked_img)"
   ]
  },
  {
   "cell_type": "code",
   "execution_count": 186,
   "metadata": {},
   "outputs": [
    {
     "data": {
      "text/plain": [
       "(184, 90)"
      ]
     },
     "execution_count": 186,
     "metadata": {},
     "output_type": "execute_result"
    }
   ],
   "source": [
    "retest_pca_train.shape"
   ]
  },
  {
   "cell_type": "code",
   "execution_count": 187,
   "metadata": {},
   "outputs": [],
   "source": [
    "# Create a SVM object \n",
    "retest_svc = SVC(kernel='linear', gamma='auto',random_state=43)"
   ]
  },
  {
   "cell_type": "markdown",
   "metadata": {},
   "source": [
    "## Implement SVM + PCA with K-fold CV on Retest data"
   ]
  },
  {
   "cell_type": "code",
   "execution_count": 199,
   "metadata": {},
   "outputs": [
    {
     "name": "stdout",
     "output_type": "stream",
     "text": [
      "The best average validation accuracy for svm model is: 0.8238888888888889\n"
     ]
    }
   ],
   "source": [
    "# Implement K-fold Cross Validation with the best parameters\n",
    "# Mean validation accuracy shown below\n",
    "retest_svm_scores = np.mean(cross_val_score(retest_svc, retest_pca_train, labels, cv=24))\n",
    "print(\"The best average validation accuracy for svm model is: {}\".format(retest_svm_scores))"
   ]
  },
  {
   "cell_type": "code",
   "execution_count": 200,
   "metadata": {},
   "outputs": [
    {
     "name": "stdout",
     "output_type": "stream",
     "text": [
      "Best score: 0.8430059523809524\n",
      "Best parameters: {'C': 0.0009765625, 'gamma': 0.0009765625, 'kernel': 'linear'}\n",
      "SVC(C=0.0009765625, gamma=0.0009765625, kernel='linear', random_state=43)\n"
     ]
    }
   ],
   "source": [
    "# Use Grid-search for hyper-parameter tuning\n",
    "svm = SVC(random_state=43)\n",
    "hyperparams = {'kernel':['linear','poly','rbf','sigmoid'],\n",
    "               'gamma' : [math.pow(2,i) for i in range(-10,5,2)],\n",
    "               'C' : [math.pow(2,i) for i in range(-10,5,2)],\n",
    "              }\n",
    "\n",
    "cross_validation = StratifiedKFold(n_splits = 24)\n",
    "grid_search = GridSearchCV(svm,param_grid = hyperparams,cv = cross_validation)\n",
    "\n",
    "grid_search.fit(retest_pca_train, labels)\n",
    "print('Best score: {}'.format(grid_search.best_score_))\n",
    "print('Best parameters: {}'.format(grid_search.best_params_))\n",
    "\n",
    "print(grid_search.best_estimator_)"
   ]
  },
  {
   "cell_type": "markdown",
   "metadata": {},
   "source": [
    "## Implement K-fold SVM Method only on Retest Data"
   ]
  },
  {
   "cell_type": "code",
   "execution_count": 201,
   "metadata": {},
   "outputs": [
    {
     "name": "stdout",
     "output_type": "stream",
     "text": [
      "The best average validation accuracy for svm model is: 0.7976190476190476\n"
     ]
    }
   ],
   "source": [
    "retest_svm_scores2 = np.mean(cross_val_score(retest_svc, retest_masked_img, labels, cv=24))\n",
    "print(\"The best average validation accuracy for svm model is: {}\".format(retest_svm_scores2))"
   ]
  },
  {
   "cell_type": "code",
   "execution_count": null,
   "metadata": {},
   "outputs": [],
   "source": [
    "# Parameter tuning not included as it takes too long to run\n",
    "\n",
    "#grid_search.fit(retest_masked_img, labels)\n",
    "#print('Best score: {}'.format(grid_search.best_score_))\n",
    "#print('Best parameters: {}'.format(grid_search.best_params_))\n",
    "\n",
    "#print(grid_search.best_estimator_)"
   ]
  }
 ],
 "metadata": {
  "kernelspec": {
   "display_name": "Python 3",
   "language": "python",
   "name": "python3"
  },
  "language_info": {
   "codemirror_mode": {
    "name": "ipython",
    "version": 3
   },
   "file_extension": ".py",
   "mimetype": "text/x-python",
   "name": "python",
   "nbconvert_exporter": "python",
   "pygments_lexer": "ipython3",
   "version": "3.8.5"
  }
 },
 "nbformat": 4,
 "nbformat_minor": 4
}
